{
 "cells": [
  {
   "cell_type": "markdown",
   "metadata": {},
   "source": [
    " # Machine Learning LAB 1\n",
    " Academic Year 2021/22, P. Zanuttigh, U. Michieli, F. Barbato, D. Shenaj, G. Rizzoli\n",
    "\n",
    "The notebook contains some simple tasks to be performed about classification and regression. Complete **all** the required code sections and answer to **all** the questions."
   ]
  },
  {
   "cell_type": "markdown",
   "metadata": {},
   "source": [
    "### IMPORTANT 1: make sure to rerun all the code from the beginning to obtain the results for the final version of your notebook, since this is the way we will do it before evaluating your notebook!\n"
   ]
  },
  {
   "cell_type": "markdown",
   "metadata": {},
   "source": [
    "### IMPORTANT 2: Place your name and ID number. Also recall to save the file as Surname_Name_LAB1.ipynb . Notebooks without name will be discarded.\n",
    "\n",
    "**Student name**: Aidin Attar<br>\n",
    "**ID Number**: 2048654"
   ]
  },
  {
   "cell_type": "markdown",
   "metadata": {},
   "source": [
    "\n",
    "# 1) Classification of Music genre\n",
    "\n",
    "### Dataset description\n",
    "\n",
    "A music genre is a conventional category that identifies pieces of music as belonging to a shared tradition or set of conventions. It is to be distinguished from musical form and musical style. The features extracted from these songs can help the machine to assing them to the two genres. \n",
    "\n",
    "This dataset is a subset of the dataset provided [here](https://www.kaggle.com/insiyeah/musicfeatures), containing only the data regarding the classical and metal genres.\n",
    "\n",
    "### We consider 3 features for the classification\n",
    "\n",
    "1) **tempo**, the speed at which a passage of music is played, i.e., the beats per minute of the musical piece<br>\n",
    "2) **chroma_stft**, [mean chromagram activation on Short-Time Fourier Transform](https://librosa.org/doc/0.7.0/generated/librosa.feature.chroma_stft.html)<br>\n",
    "3) **spectral_centroid**, Indicates where the \"center of mass\" of the spectrum is located, i.e., it is the weighted average of the frequency transform<br>\n"
   ]
  },
  {
   "cell_type": "markdown",
   "metadata": {},
   "source": [
    "We first import all the packages that are needed."
   ]
  },
  {
   "cell_type": "code",
   "execution_count": 1,
   "metadata": {},
   "outputs": [],
   "source": [
    "%matplotlib inline\n",
    "import matplotlib.pyplot as plt\n",
    "import csv\n",
    "\n",
    "import numpy as np\n",
    "import scipy as sp\n",
    "import sklearn as sl\n",
    "from scipy import stats\n",
    "from sklearn import datasets\n",
    "from sklearn import linear_model"
   ]
  },
  {
   "cell_type": "markdown",
   "metadata": {},
   "source": [
    "# Perceptron\n",
    "Firstly we will implement the perceptron algorithm and use it to learn a halfspace."
   ]
  },
  {
   "cell_type": "markdown",
   "metadata": {},
   "source": [
    "**TO DO** Set the random seed, you can use your ID (matricola) or any other number! Try to make various tests changing the seed."
   ]
  },
  {
   "cell_type": "code",
   "execution_count": 2,
   "metadata": {},
   "outputs": [],
   "source": [
    "IDnumber = 2048654 #YOUR_ID , try also to change the seed to see the impact of random initialization on the results\n",
    "np.random.seed(IDnumber)"
   ]
  },
  {
   "cell_type": "markdown",
   "metadata": {},
   "source": [
    "Load the dataset and then split in training set and test set (the training set is typically larger, you can use a 75% tranining 25% test split) after applying a random permutation to the datset."
   ]
  },
  {
   "cell_type": "markdown",
   "metadata": {},
   "source": [
    "A) Load dataset and perform permutation"
   ]
  },
  {
   "cell_type": "code",
   "execution_count": 3,
   "metadata": {},
   "outputs": [
    {
     "name": "stdout",
     "output_type": "stream",
     "text": [
      "Header: ['tempo', 'chroma_stft', 'spectral_centroid', 'label']\n",
      "\n",
      "Data shape: (200, 4)\n",
      "\n",
      "Dataset Example:\n",
      "[['92.28515625' '0.22373830597598895' '2192.798091164326' '0']\n",
      " ['161.4990234375' '0.2841730455239421' '1534.0649775815205' '0']\n",
      " ['143.5546875' '0.20811288763962318' '1396.8242648287155' '0']\n",
      " ['95.703125' '0.31289954089595506' '1680.0882644413368' '0']\n",
      " ['123.046875' '0.25857228884109024' '1173.6583080518985' '0']\n",
      " ['67.99958881578948' '0.22521197942744986' '715.1893204778178' '0']\n",
      " ['95.703125' '0.2840176228179304' '1184.632142061296' '0']\n",
      " ['89.10290948275862' '0.2563949682674902' '1358.897902739857' '0']\n",
      " ['99.38401442307692' '0.2614892978768399' '1372.8258066922585' '0']\n",
      " ['184.5703125' '0.2899787266101455' '1953.0485341566464' '0']]\n",
      "\n",
      "Number of samples loaded: 200\n"
     ]
    }
   ],
   "source": [
    "# Load the dataset\n",
    "filename = 'data/music.csv'\n",
    "music = csv.reader(open(filename, newline='\\n'), delimiter=',')\n",
    "\n",
    "header = next(music) # skip first line\n",
    "print(f\"Header: {header}\\n\")\n",
    "\n",
    "dataset = np.array(list(music))\n",
    "print(f\"Data shape: {dataset.shape}\\n\")\n",
    "print(\"Dataset Example:\")\n",
    "print(dataset[:10,...])\n",
    "\n",
    "X = dataset[:,:-1].astype(float) #columns 0,1,2 contain the features\n",
    "Y = dataset[:,-1].astype(int)    # last column contains the labels\n",
    "\n",
    "Y = 2*Y-1                        # for the perceptron classical--> -1, metal-->1\n",
    "m = dataset.shape[0]\n",
    "print(\"\\nNumber of samples loaded:\", m)\n",
    "permutation = np.random.permutation(m) # random permutation\n",
    "\n",
    "X = X[permutation]\n",
    "Y = Y[permutation]"
   ]
  },
  {
   "cell_type": "markdown",
   "metadata": {},
   "source": [
    "We are going to classify class \"1\" (metal) vs class \"-1\" (classical)"
   ]
  },
  {
   "cell_type": "markdown",
   "metadata": {},
   "source": [
    "B) **TO DO** Divide the data into training set and test set (75% of the data in the first set, 25% in the second one)"
   ]
  },
  {
   "cell_type": "code",
   "execution_count": 4,
   "metadata": {},
   "outputs": [
    {
     "name": "stdout",
     "output_type": "stream",
     "text": [
      "[ 1  1 -1  1  1 -1  1  1  1  1 -1  1  1 -1 -1  1 -1  1 -1 -1 -1  1 -1 -1\n",
      " -1  1 -1  1  1  1 -1 -1 -1  1 -1 -1 -1  1  1  1 -1  1 -1 -1  1  1  1 -1\n",
      "  1  1 -1 -1 -1  1  1 -1 -1  1  1 -1 -1 -1  1  1 -1  1  1 -1  1  1  1  1\n",
      "  1  1 -1 -1  1 -1  1  1  1  1  1  1 -1  1  1 -1  1  1 -1  1 -1  1  1  1\n",
      "  1  1 -1 -1  1 -1 -1 -1  1 -1  1 -1 -1  1 -1 -1  1  1 -1  1 -1  1  1 -1\n",
      "  1 -1  1  1 -1  1 -1 -1 -1  1 -1 -1 -1  1  1 -1 -1 -1 -1 -1 -1 -1 -1 -1\n",
      " -1  1  1 -1  1 -1]\n",
      "50\n",
      "\n",
      "Number of classical instances in test: 27\n",
      "Number of metal instances in test: 23\n",
      "Shape of training set: (150, 3)\n",
      "Shape of test set: (50, 3)\n"
     ]
    }
   ],
   "source": [
    "# Divide in training and test: make sure that your training set\n",
    "# contains at least 10 elements from class 1 and at least 10 elements\n",
    "# from class -1! If it does not, modify the code so to apply more random\n",
    "# permutations (or the same permutation multiple times) until this happens.\n",
    "# IMPORTANT: do not change the random seed.\n",
    "\n",
    "\n",
    "# m_test needs to be the number of samples in the test set\n",
    "m_training = int(0.75 * m)# PLACE YOUR CODE\n",
    "\n",
    "# m_test needs to be the number of samples in the test set\n",
    "m_test = int(0.25 * m)# PLACE YOUR CODE\n",
    "\n",
    "# X_training = instances for training set\n",
    "X_training = X[:m_training] # PLACE YOUR CODE\n",
    "#Y_training = labels for the training set\n",
    "Y_training = Y[:m_training] # PLACE YOUR CODE\n",
    "\n",
    "# X_test = instances for test set\n",
    "X_test = X[-m_test:]# PLACE YOUR CODE\n",
    "# Y_test = labels for the test set\n",
    "Y_test = Y[-m_test:]# PLACE YOUR CODE\n",
    "\n",
    "print(Y_training) # to make sure that Y_training contains both 1 and -1\n",
    "print(m_test)\n",
    "\n",
    "print(\"\\nNumber of classical instances in test:\", np.sum(Y_test==-1))\n",
    "print(\"Number of metal instances in test:\", np.sum(Y_test==1))\n",
    "\n",
    "print(\"Shape of training set: \" + str(X_training.shape))\n",
    "print(\"Shape of test set: \" + str(X_test.shape))"
   ]
  },
  {
   "cell_type": "markdown",
   "metadata": {},
   "source": [
    "We add a 1 in front of each sample so that we can use a vector in homogeneous coordinates to describe all the coefficients of the model. This can be done with the function $hstack$ in $numpy$."
   ]
  },
  {
   "cell_type": "code",
   "execution_count": 5,
   "metadata": {},
   "outputs": [
    {
     "name": "stdout",
     "output_type": "stream",
     "text": [
      "Training set in homogeneous coordinates:\n",
      "[[1.00000000e+00 1.17453835e+02 5.01569949e-01 2.83687885e+03]\n",
      " [1.00000000e+00 6.15234375e+01 4.29974584e-01 2.38938800e+03]\n",
      " [1.00000000e+00 8.91029095e+01 1.98925769e-01 1.11810879e+03]\n",
      " [1.00000000e+00 9.93840144e+01 4.67757473e-01 2.44264558e+03]\n",
      " [1.00000000e+00 1.51999081e+02 4.76896884e-01 2.92283855e+03]\n",
      " [1.00000000e+00 1.61499023e+02 2.19015447e-01 8.11679647e+02]\n",
      " [1.00000000e+00 9.57031250e+01 5.16697528e-01 3.33873318e+03]\n",
      " [1.00000000e+00 9.57031250e+01 4.70335178e-01 2.69063999e+03]\n",
      " [1.00000000e+00 6.15234375e+01 4.29974584e-01 2.38938800e+03]\n",
      " [1.00000000e+00 1.51999081e+02 4.40919990e-01 2.74111811e+03]]\n"
     ]
    }
   ],
   "source": [
    "# Add a 1 to each sample (homogeneous coordinates)\n",
    "X_training = np.hstack((np.ones((m_training, 1)), X_training))\n",
    "X_test     = np.hstack((np.ones((m_test,     1)), X_test    ))\n",
    "\n",
    "print(\"Training set in homogeneous coordinates:\")\n",
    "print(X_training[:10])"
   ]
  },
  {
   "cell_type": "markdown",
   "metadata": {},
   "source": [
    "**TO DO** Now complete the function *perceptron*. Since the perceptron does not terminate if the data is not linearly separable, your implementation should return the desired output (see below) if it reached the termination condition seen in class or if a maximum number of iterations have already been run, where one iteration corresponds to one update of the perceptron weights. In case the termination is reached because the maximum number of iterations have been completed, the implementation should return **the best model** seen up to now.\n",
    "\n",
    "The input parameters to pass are:\n",
    "- $X$: the matrix of input features, one row for each sample\n",
    "- $Y$: the vector of labels for the input features matrix X\n",
    "- $max\\_num\\_iterations$: the maximum number of iterations for running the perceptron\n",
    "\n",
    "The output values are:\n",
    "- $best\\_w$: the vector with the coefficients of the best model\n",
    "- $best\\_error$: the *fraction* of misclassified samples for the best model"
   ]
  },
  {
   "cell_type": "markdown",
   "metadata": {},
   "source": [
    "Da cancellare:\n",
    "\n",
    "https://towardsdatascience.com/perceptron-algorithm-in-python-f3ac89d2e537"
   ]
  },
  {
   "cell_type": "code",
   "execution_count": 6,
   "metadata": {},
   "outputs": [],
   "source": [
    "# A template is provided, but feel free to build a different implementation\n",
    "\n",
    "def perceptron_update(current_w, x, y):\n",
    "    # Place in this function the update rule of the perceptron algorithm\n",
    "    return current_w + x*y\n",
    "    \n",
    "def perceptron(X, Y, max_num_iterations):\n",
    "    # Place in this function the main section of the perceptron algorithm\n",
    "    \n",
    "    #init the algorith with w=0, use a best_w variable to keep track of the best solution\n",
    "    \n",
    "    # m-> number of training examples\n",
    "    # n-> number of features \n",
    "    m, n = X.shape\n",
    "    \n",
    "    curr_w = np.zeros(n) # PLACE YOUR CODE\n",
    "    best_w = curr_w # PLACE YOUR CODE\n",
    "    num_samples = m # PLACE YOUR CODE\n",
    "    curr_error = 1\n",
    "    best_error = curr_error # PLACE YOUR CODE #it was -1\n",
    "    errors = []\n",
    "    \n",
    "    index_misclassified = -1 #will be ovewritten\n",
    "    num_misclassified = 0 #will be ovewritten\n",
    "    n_miss_list = [] #list of misclassified \n",
    "    \n",
    "    \n",
    "    #main loop continue until all samples correctly classified or max # iterations reached\n",
    "    num_iter = 0 #it was 1\n",
    "    \n",
    "    #while ((index_misclassified != -1) and (num_iter < max_num_iterations)):\n",
    "    while num_iter < max_num_iterations:\n",
    "        \n",
    "        rand_index = []\n",
    "        num_misclassified = 0\n",
    "        \n",
    "        # avoid working always on the same sample, you can use a random permutation or randomize the choice of misclassified\n",
    "        \n",
    "        # PLACE YOUR CODE TO RANDOMIZE\n",
    "        # don't know if i should mantain it\n",
    "        permutation = np.random.permutation(len(X))\n",
    "        X = X[permutation]\n",
    "        Y = Y[permutation]\n",
    "        \n",
    "        for i in range(num_samples):\n",
    "             \n",
    "            # PLACE YOUR CODE\n",
    "            #curr_w = perceptron_update(curr_w, X[i], Y[i]) # cancel\n",
    "            #check if the i-th randomly selected sample is misclassified\n",
    "            # store the number of randomly classified samples and the index of at least one of them\n",
    "            if Y[i] * np.dot(curr_w, X[i]) <= 0:\n",
    "                num_misclassified += 1\n",
    "                rand_index.append(i)\n",
    "                \n",
    "        #update  error count, keep track of best solution\n",
    "        error = num_misclassified / num_samples\n",
    "        errors.append(error)\n",
    "        if error < best_error:\n",
    "            best_error = error\n",
    "            best_w = curr_w\n",
    "        if num_misclassified == 0:\n",
    "            print(\"There are no misclassified points. \\n\\nn_iter = \", num_iter)\n",
    "            break\n",
    "    \n",
    "        #call update function using a misclassifed sample\n",
    "        index_misclassified = rand_index[np.random.randint(0, len(rand_index))] \n",
    "        curr_w = perceptron_update(curr_w, X[index_misclassified], Y[index_misclassified])\n",
    "        num_iter += 1\n",
    "    return best_w, best_error, errors"
   ]
  },
  {
   "cell_type": "markdown",
   "metadata": {},
   "source": [
    "Now we use the implementation above of the perceptron to learn a model from the training data using 100 iterations and print the error of the best model we have found."
   ]
  },
  {
   "cell_type": "code",
   "execution_count": 7,
   "metadata": {},
   "outputs": [
    {
     "name": "stdout",
     "output_type": "stream",
     "text": [
      "[-2.20000000e+01 -2.59556151e+03 -8.50522659e-01  2.10457826e+02]\n",
      "Training Error of perpceptron (100 iterations): 0.18666666666666668\n"
     ]
    }
   ],
   "source": [
    "#now run the perceptron for 100 iterations\n",
    "w_found, error, errors = perceptron(X_training,Y_training, 100)\n",
    "print(w_found)\n",
    "print(\"Training Error of perpceptron (100 iterations): \" + str(error))"
   ]
  },
  {
   "cell_type": "markdown",
   "metadata": {},
   "source": [
    "**TO DO** use the best model $w\\_found$ to predict the labels for the test dataset and print the fraction of misclassified samples in the test set (the test error that is an estimate of the true loss)."
   ]
  },
  {
   "cell_type": "code",
   "execution_count": 8,
   "metadata": {},
   "outputs": [
    {
     "name": "stdout",
     "output_type": "stream",
     "text": [
      "Test Error of perpceptron (100 iterations): 0.16\n",
      "Misclassified points:  8\n"
     ]
    }
   ],
   "source": [
    "#now use the w_found to make predictions on test dataset\n",
    "\n",
    "num_errors = 0\n",
    "\n",
    "# PLACE YOUR CODE to compute the number of errors\n",
    "for i in range(m_test):\n",
    "    if Y_test[i] * np.dot(w_found, X_test[i]) <= 0:\n",
    "            num_errors += 1\n",
    "\n",
    "true_loss_estimate = num_errors/m_test  # error rate on the test set\n",
    "#NOTE: you can avoid using num_errors if you prefer, as long as true_loss_estimate is correct\n",
    "print(\"Test Error of perpceptron (100 iterations): \" + str(true_loss_estimate))\n",
    "print(\"Misclassified points: \", num_errors)"
   ]
  },
  {
   "cell_type": "markdown",
   "metadata": {},
   "source": [
    "**TO DO** **[Answer the following]** What about the difference betweeen the training error and the test error  in terms of fraction of misclassified samples)? Explain what you observe. [Write the answer in this cell]\n",
    "\n",
    "**ANSWER QUESTION 1**"
   ]
  },
  {
   "cell_type": "markdown",
   "metadata": {},
   "source": [
    "**TO DO** Copy the code from the last 2 cells above in the cell below and repeat the training with 4000 iterations. Then print the error in the training set and the estimate of the true loss obtained from the test set."
   ]
  },
  {
   "cell_type": "code",
   "execution_count": 9,
   "metadata": {
    "scrolled": true
   },
   "outputs": [
    {
     "name": "stdout",
     "output_type": "stream",
     "text": [
      "[-1.07000000e+02 -1.28702045e+04 -3.15854270e+00  8.06140204e+02]\n",
      "Training Error of perpceptron (4000 iterations): 0.09333333333333334\n",
      "Test Error of perpceptron (4000 iterations): 0.16\n"
     ]
    }
   ],
   "source": [
    "#now run the perceptron for 3000 iterations here!\n",
    "\n",
    "w_found, error, errors = perceptron(X_training,Y_training, 3000)\n",
    "print(w_found)\n",
    "print(\"Training Error of perpceptron (4000 iterations): \" + str(error))\n",
    "\n",
    "# PLACE YOUR CODE\n",
    "num_errors = 0\n",
    "\n",
    "# PLACE YOUR CODE to compute the number of errors\n",
    "for i in range(m_test):\n",
    "    if Y_test[i] * np.dot(w_found, X_test[i]) <= 0:\n",
    "            num_errors += 1\n",
    "\n",
    "true_loss_estimate = num_errors/m_test  # error rate on the test set\n",
    "\n",
    "print(\"Test Error of perpceptron (4000 iterations): \" + str(true_loss_estimate))"
   ]
  },
  {
   "cell_type": "markdown",
   "metadata": {},
   "source": [
    "**TO DO** [Answer the following] What about the difference betweeen the training error and the test error  in terms of fraction of misclassified samples) when running for a larger number of iterations ? Explain what you observe and compare with the previous case. [Write the answer in this cell]\n",
    "\n",
    "**ANSWER QUESTION 2**"
   ]
  },
  {
   "cell_type": "markdown",
   "metadata": {},
   "source": [
    "# Logistic Regression\n",
    "Now we use logistic regression, exploiting the implementation in Scikit-learn, to predict labels. We will also plot the decision region of logistic regression.\n",
    "\n",
    "We first load the dataset again."
   ]
  },
  {
   "cell_type": "code",
   "execution_count": 10,
   "metadata": {},
   "outputs": [
    {
     "name": "stdout",
     "output_type": "stream",
     "text": [
      "Header: ['tempo', 'chroma_stft', 'spectral_centroid', 'label']\n",
      "\n",
      "Data shape: (200, 4)\n",
      "\n",
      "Dataset Example:\n",
      "[['92.28515625' '0.22373830597598895' '2192.798091164326' '0']\n",
      " ['161.4990234375' '0.2841730455239421' '1534.0649775815205' '0']\n",
      " ['143.5546875' '0.20811288763962318' '1396.8242648287155' '0']\n",
      " ['95.703125' '0.31289954089595506' '1680.0882644413368' '0']\n",
      " ['123.046875' '0.25857228884109024' '1173.6583080518985' '0']\n",
      " ['67.99958881578948' '0.22521197942744986' '715.1893204778178' '0']\n",
      " ['95.703125' '0.2840176228179304' '1184.632142061296' '0']\n",
      " ['89.10290948275862' '0.2563949682674902' '1358.897902739857' '0']\n",
      " ['99.38401442307692' '0.2614892978768399' '1372.8258066922585' '0']\n",
      " ['184.5703125' '0.2899787266101455' '1953.0485341566464' '0']]\n",
      "\n",
      "Number of samples loaded: 200\n"
     ]
    }
   ],
   "source": [
    "# Load the dataset\n",
    "filename = 'data/music.csv'\n",
    "music = csv.reader(open(filename, newline='\\n'), delimiter=',')\n",
    "\n",
    "header = next(music) # skip first line\n",
    "print(f\"Header: {header}\\n\")\n",
    "\n",
    "dataset = np.array(list(music))\n",
    "print(f\"Data shape: {dataset.shape}\\n\")\n",
    "print(\"Dataset Example:\")\n",
    "print(dataset[:10,...])\n",
    "\n",
    "X = dataset[:,:-1].astype(float) # columns 0,1,2 contain the features\n",
    "Y = dataset[:,-1].astype(int)    # last column contains the labels\n",
    "\n",
    "Y = 2*Y-1                        # for the perceprton classical--> -1, metal-->1\n",
    "m = dataset.shape[0]\n",
    "print(\"\\nNumber of samples loaded:\", m)\n",
    "permutation = np.random.permutation(m) # random permutation\n",
    "\n",
    "X = X[permutation]\n",
    "Y = Y[permutation]"
   ]
  },
  {
   "cell_type": "markdown",
   "metadata": {},
   "source": [
    "**TO DO** As for the previous part, divide the data into training and test (75%-25%) and add a 1 as first component to each sample."
   ]
  },
  {
   "cell_type": "code",
   "execution_count": 11,
   "metadata": {},
   "outputs": [
    {
     "name": "stdout",
     "output_type": "stream",
     "text": [
      "Number of samples in the test set: 50\n",
      "\n",
      "Number of classical instances in test: 25\n",
      "Number of metal instances in test: 25\n",
      "\n",
      "Shape of training set: (150, 3)\n",
      "Shape of test set: (50, 3)\n"
     ]
    }
   ],
   "source": [
    "#Divide in training and test: make sure that your training set\n",
    "#contains at least 10 elements from class 1 and at least 10 elements\n",
    "#from class -1! If it does not, modify the code so to apply more random\n",
    "#permutations (or the same permutation multiple times) until this happens.\n",
    "#IMPORTANT: do not change the random seed.\n",
    "\n",
    "m_training = int(0.75 * m) # PLACE YOUR CODE\n",
    "m_test = int(0.25 * m) # PLACE YOUR CODE\n",
    "\n",
    "X_training = X[:m_training] # PLACE YOUR CODE\n",
    "Y_training = Y[:m_training] # PLACE YOUR CODE\n",
    "\n",
    "X_test = X[-m_test:] # PLACE YOUR CODE\n",
    "Y_test = Y[-m_test:] # PLACE YOUR CODE\n",
    "\n",
    "\n",
    "print(\"Number of samples in the test set:\", m_test)\n",
    "print(\"\\nNumber of classical instances in test:\", np.sum(Y_test==-1))\n",
    "print(\"Number of metal instances in test:\", np.sum(Y_test==1))\n",
    "\n",
    "print(\"\\nShape of training set: \" + str(X_training.shape))\n",
    "print(\"Shape of test set: \" + str(X_test.shape))"
   ]
  },
  {
   "cell_type": "markdown",
   "metadata": {},
   "source": [
    "To define a logistic regression model in Scikit-learn use the instruction\n",
    "\n",
    "$linear\\_model.LogisticRegression(C=1e5)$\n",
    "\n",
    "($C$ is a parameter related to *regularization*, a technique that\n",
    "we will see later in the course. Setting it to a high value is almost\n",
    "as ignoring regularization, so the instruction above corresponds to the\n",
    "logistic regression you have seen in class.)\n",
    "\n",
    "To learn the model you need to use the $fit(...)$ instruction and to predict you need to use the $predict(...)$ function. See the Scikit-learn documentation for how to use it.\n",
    "\n",
    "**TO DO** Define the logistic regression model, then learn the model using the training set and predict on the test set. Then print the fraction of samples misclassified in the training set and in the test set."
   ]
  },
  {
   "cell_type": "code",
   "execution_count": 12,
   "metadata": {},
   "outputs": [
    {
     "data": {
      "text/plain": [
       "'#part on logistic regression for 2 classes\\nlogreg = linear_model.LogisticRegression(C=1e5) #a large C disables regularization\\n\\n#learn from training set\\n\\n# PLACE YOUR CODE\\nreg_training = logreg.fit(X_training, Y_training)\\n#predict on training set\\n\\n# PLACE YOUR CODE\\nY_pred_training = reg_training.predict(X_training)\\n#print(Y_training)\\n#print(Y_reg_predct)\\n\\n#print the error rate = fraction of misclassified samples\\nerror_rate_training = 0\\n\\n# PLACE YOUR CODE\\nfor i, j in zip(Y_training, Y_pred_training):\\n    print(i, j)\\n    if i != j:\\n        error_rate_training += 1\\nerror_rate_training /= m_training\\n\\nprint(\"Error rate on training set: \"+str(error_rate_training))\\n\\n#predict on test set\\n\\n# PLACE YOUR CODE\\n#reg_test = logreg.fit(X_test, Y_test)\\n\\n# PLACE YOUR CODE\\n#Y_test_prdct = reg_test.predict(X_test)\\nY_pred_test = reg_training.predict(X_test)\\n\\n#print the error rate = fraction of misclassified samples\\nerror_rate_test = 0\\n\\n# PLACE YOUR CODE\\nfor i, j in zip(Y_test, Y_pred_test):\\n    if i != j:\\n        error_rate_test += 1\\n        \\nerror_rate_test /= m_test\\n\\n\\nprint(\"Error rate on test set: \" + str(error_rate_test))'"
      ]
     },
     "execution_count": 12,
     "metadata": {},
     "output_type": "execute_result"
    }
   ],
   "source": [
    "#part on logistic regression for 2 classes\n",
    "logreg = linear_model.LogisticRegression(C=1e5) #a large C disables regularization\n",
    "\n",
    "#learn from training set\n",
    "\n",
    "# PLACE YOUR CODE\n",
    "reg_training = logreg.fit(X_training, Y_training)\n",
    "#predict on training set\n",
    "\n",
    "# PLACE YOUR CODE\n",
    "Y_pred_training = reg_training.predict(X_training)\n",
    "#print(Y_training)\n",
    "#print(Y_reg_predct)\n",
    "\n",
    "#print the error rate = fraction of misclassified samples\n",
    "error_rate_training = 0\n",
    "\n",
    "# PLACE YOUR CODE\n",
    "for i, j in zip(Y_training, Y_pred_training):\n",
    "    print(i, j)\n",
    "    if i != j:\n",
    "        error_rate_training += 1\n",
    "error_rate_training /= m_training\n",
    "\n",
    "print(\"Error rate on training set: \"+str(error_rate_training))\n",
    "\n",
    "#predict on test set\n",
    "\n",
    "# PLACE YOUR CODE\n",
    "#reg_test = logreg.fit(X_test, Y_test)\n",
    "\n",
    "# PLACE YOUR CODE\n",
    "#Y_test_prdct = reg_test.predict(X_test)\n",
    "Y_pred_test = reg_training.predict(X_test)\n",
    "\n",
    "#print the error rate = fraction of misclassified samples\n",
    "error_rate_test = 0\n",
    "\n",
    "# PLACE YOUR CODE\n",
    "for i, j in zip(Y_test, Y_pred_test):\n",
    "    if i != j:\n",
    "        error_rate_test += 1\n",
    "        \n",
    "error_rate_test /= m_test\n",
    "\n",
    "\n",
    "print(\"Error rate on test set: \" + str(error_rate_test))"
   ]
  },
  {
   "cell_type": "code",
   "execution_count": 13,
   "metadata": {},
   "outputs": [
    {
     "name": "stdout",
     "output_type": "stream",
     "text": [
      "-1 -1\n",
      "-1 -1\n",
      "1 1\n",
      "-1 -1\n",
      "1 1\n",
      "1 1\n",
      "-1 -1\n",
      "-1 -1\n",
      "-1 -1\n",
      "-1 -1\n",
      "-1 -1\n",
      "1 1\n",
      "-1 -1\n",
      "-1 -1\n",
      "-1 -1\n",
      "1 1\n",
      "1 1\n",
      "1 1\n",
      "-1 -1\n",
      "-1 -1\n",
      "1 1\n",
      "-1 -1\n",
      "1 1\n",
      "-1 -1\n",
      "1 1\n",
      "-1 -1\n",
      "-1 -1\n",
      "1 1\n",
      "-1 -1\n",
      "-1 -1\n",
      "1 1\n",
      "-1 -1\n",
      "1 1\n",
      "1 1\n",
      "-1 -1\n",
      "1 1\n",
      "-1 -1\n",
      "1 1\n",
      "1 1\n",
      "1 1\n",
      "1 1\n",
      "-1 -1\n",
      "1 1\n",
      "-1 -1\n",
      "1 1\n",
      "1 1\n",
      "1 1\n",
      "-1 -1\n",
      "1 1\n",
      "1 1\n",
      "-1 -1\n",
      "-1 -1\n",
      "1 1\n",
      "-1 -1\n",
      "1 1\n",
      "-1 -1\n",
      "1 1\n",
      "-1 -1\n",
      "1 1\n",
      "1 1\n",
      "1 1\n",
      "1 1\n",
      "-1 -1\n",
      "1 1\n",
      "1 1\n",
      "-1 -1\n",
      "1 1\n",
      "-1 -1\n",
      "-1 -1\n",
      "-1 -1\n",
      "1 1\n",
      "1 1\n",
      "-1 -1\n",
      "1 1\n",
      "1 1\n",
      "1 1\n",
      "-1 -1\n",
      "-1 -1\n",
      "-1 -1\n",
      "1 1\n",
      "1 1\n",
      "-1 -1\n",
      "-1 -1\n",
      "1 1\n",
      "1 1\n",
      "-1 -1\n",
      "1 1\n",
      "1 1\n",
      "-1 -1\n",
      "1 1\n",
      "1 1\n",
      "-1 -1\n",
      "1 1\n",
      "1 1\n",
      "-1 -1\n",
      "1 1\n",
      "1 1\n",
      "-1 -1\n",
      "1 1\n",
      "1 1\n",
      "-1 -1\n",
      "-1 -1\n",
      "-1 -1\n",
      "-1 -1\n",
      "-1 -1\n",
      "1 1\n",
      "-1 -1\n",
      "-1 -1\n",
      "-1 -1\n",
      "-1 -1\n",
      "-1 -1\n",
      "1 1\n",
      "-1 -1\n",
      "1 1\n",
      "-1 -1\n",
      "1 1\n",
      "1 1\n",
      "1 1\n",
      "1 1\n",
      "-1 -1\n",
      "-1 -1\n",
      "-1 -1\n",
      "1 1\n",
      "1 1\n",
      "-1 -1\n",
      "-1 -1\n",
      "-1 -1\n",
      "1 1\n",
      "1 1\n",
      "-1 -1\n",
      "-1 -1\n",
      "1 1\n",
      "1 1\n",
      "1 1\n",
      "-1 -1\n",
      "-1 -1\n",
      "-1 -1\n",
      "1 1\n",
      "-1 -1\n",
      "1 1\n",
      "-1 -1\n",
      "-1 -1\n",
      "-1 -1\n",
      "1 1\n",
      "1 1\n",
      "1 1\n",
      "-1 -1\n",
      "1 1\n",
      "-1 -1\n",
      "1 1\n",
      "Error rate on training set: 0.0\n",
      "Error rate on test set: 0.04\n"
     ]
    }
   ],
   "source": [
    "'''#part on logistic regression for 2 classes\n",
    "logreg = linear_model.LogisticRegression(C=1e5) #a large C disables regularization\n",
    "\n",
    "#learn from training set\n",
    "\n",
    "# PLACE YOUR CODE\n",
    "logreg.fit(X_training, Y_training)\n",
    "#predict on training set\n",
    "\n",
    "# PLACE YOUR CODE\n",
    "Y_pred_training = logreg.predict(X_training)\n",
    "#print(Y_training)\n",
    "#print(Y_reg_predct)\n",
    "\n",
    "#print the error rate = fraction of misclassified samples\n",
    "error_rate_training = 0\n",
    "\n",
    "# PLACE YOUR CODE\n",
    "for i, j in zip(Y_training, Y_pred_training):\n",
    "    print(i, j)\n",
    "    if i != j:\n",
    "        error_rate_training += 1\n",
    "error_rate_training /= m_training\n",
    "\n",
    "print(\"Error rate on training set: \"+str(error_rate_training))\n",
    "\n",
    "#predict on test set\n",
    "\n",
    "# PLACE YOUR CODE\n",
    "#reg_test = logreg.fit(X_test, Y_test)\n",
    "\n",
    "# PLACE YOUR CODE\n",
    "#Y_test_prdct = reg_test.predict(X_test)\n",
    "Y_pred_test = logreg.predict(X_test)\n",
    "\n",
    "#print the error rate = fraction of misclassified samples\n",
    "error_rate_test = 0\n",
    "\n",
    "# PLACE YOUR CODE\n",
    "for i, j in zip(Y_test, Y_pred_test):\n",
    "    if i != j:\n",
    "        error_rate_test += 1\n",
    "        \n",
    "error_rate_test /= m_test\n",
    "\n",
    "\n",
    "print(\"Error rate on test set: \" + str(error_rate_test))'''"
   ]
  },
  {
   "cell_type": "markdown",
   "metadata": {},
   "source": [
    "**TO DO** Now pick two features and restrict the dataset to include only two features, whose indices are specified in the $feature$ vector below. Then split into training and test. Which features are you going to select ?"
   ]
  },
  {
   "cell_type": "code",
   "execution_count": 14,
   "metadata": {},
   "outputs": [],
   "source": [
    "# to make the plot we need to reduce the data to 2D, so we choose two features\n",
    "features_list = ['tempo', 'chroma_stft', 'spectral_centroid']\n",
    "index_feature1 = 0 # Select the best 2 features according to your experiments\n",
    "index_feature2 = 2 # Select the best 2 features according to your experiments\n",
    "features = [index_feature1, index_feature2]\n",
    "\n",
    "feature_name0 = features_list[features[0]]\n",
    "feature_name1 = features_list[features[1]]\n",
    "\n",
    "X_reduced = X[:,features]\n",
    "\n",
    "X_training = X_reduced[:m_training] # PLACE YOUR CODE\n",
    "#Y_training = # PLACE YOUR CODE\n",
    "\n",
    "X_test = X_reduced[:m_training] # PLACE YOUR CODE\n",
    "#Y_test = # PLACE YOUR CODE"
   ]
  },
  {
   "cell_type": "markdown",
   "metadata": {},
   "source": [
    "Now learn a model using the training data and measure the performances."
   ]
  },
  {
   "cell_type": "code",
   "execution_count": 15,
   "metadata": {},
   "outputs": [
    {
     "data": {
      "text/plain": [
       "'# learning from training data\\n\\n# PLACE YOUR CODE\\nlogreg = linear_model.LogisticRegression(C=1e5) #a large C disables regularization\\nreg_training = logreg.fit(X_training, Y_training)\\n#predict on test set\\nY_pred_test = reg_training.predict(X_training)\\n\\n#print the error rate = fraction of misclassified samples\\nerror_rate_test = 0\\n\\n# PLACE YOUR CODE\\nfor i, j in zip(Y_training, Y_pred_test):\\n    if i != j:\\n        error_rate_test += 1\\nerror_rate_test /= m_test\\n\\nprint(\"Error rate on test set: \" + str(error_rate_test))'"
      ]
     },
     "execution_count": 15,
     "metadata": {},
     "output_type": "execute_result"
    }
   ],
   "source": [
    "# learning from training data\n",
    "\n",
    "# PLACE YOUR CODE\n",
    "logreg = linear_model.LogisticRegression(C=1e5) #a large C disables regularization\n",
    "reg_training = logreg.fit(X_training, Y_training)\n",
    "#predict on test set\n",
    "Y_pred_test = reg_training.predict(X_training)\n",
    "\n",
    "#print the error rate = fraction of misclassified samples\n",
    "error_rate_test = 0\n",
    "\n",
    "# PLACE YOUR CODE\n",
    "for i, j in zip(Y_training, Y_pred_test):\n",
    "    if i != j:\n",
    "        error_rate_test += 1\n",
    "error_rate_test /= m_test\n",
    "\n",
    "print(\"Error rate on test set: \" + str(error_rate_test))"
   ]
  },
  {
   "cell_type": "code",
   "execution_count": 16,
   "metadata": {},
   "outputs": [
    {
     "name": "stdout",
     "output_type": "stream",
     "text": [
      "Error rate on test set: 0.18\n"
     ]
    }
   ],
   "source": [
    "'''# learning from training data\n",
    "\n",
    "# PLACE YOUR CODE\n",
    "logreg = linear_model.LogisticRegression(C=1e5) #a large C disables regularization\n",
    "logreg.fit(X_training, Y_training)\n",
    "#predict on test set\n",
    "Y_pred_test = logreg.predict(X_training)\n",
    "\n",
    "#print the error rate = fraction of misclassified samples\n",
    "error_rate_test = 0\n",
    "\n",
    "# PLACE YOUR CODE\n",
    "for i, j in zip(Y_training, Y_pred_test):\n",
    "    if i != j:\n",
    "        error_rate_test += 1\n",
    "error_rate_test /= m_test\n",
    "\n",
    "print(\"Error rate on test set: \" + str(error_rate_test))'''"
   ]
  },
  {
   "cell_type": "markdown",
   "metadata": {},
   "source": [
    "**TO DO** [Answer the following] Which features did you select and why ? Compare the perfromances with the ones of the case with all the 3 features and comment about the results. [Write the answer in this cell]\n",
    "\n",
    "**ANSWER QUESTION 3**"
   ]
  },
  {
   "cell_type": "markdown",
   "metadata": {},
   "source": [
    "If everything is ok, the code below uses the model in $logreg$ to plot the decision region for the two features chosen above, with colors denoting the predicted value. It also plots the points (with correct labels) in the training set. It makes a similar plot for the test set."
   ]
  },
  {
   "cell_type": "code",
   "execution_count": 21,
   "metadata": {
    "scrolled": true
   },
   "outputs": [
    {
     "name": "stdout",
     "output_type": "stream",
     "text": [
      "61.0234375\n",
      "235.40767045454547\n",
      "689.5759016323168\n",
      "3403.6019046851966\n",
      "\n",
      "\n",
      "[ 61.0234375  61.0434375  61.0634375 ... 235.3634375 235.3834375\n",
      " 235.4034375]\n",
      "135702\n"
     ]
    }
   ],
   "source": [
    "# Plot the decision boundary. For that, we will assign a color to each\n",
    "# point in the mesh [x_min, x_max]x[y_min, y_max].\n",
    "\n",
    "# NOTICE: This visualization code has been developed for a \"standard\" solution of the notebook, \n",
    "# it could be necessary to make some fixes to adapt to your implementation\n",
    "h = .02  # step size in the mesh\n",
    "x_min, x_max = X_reduced[:, 0].min() - .5, X_reduced[:, 0].max() + .5\n",
    "y_min, y_max = X_reduced[:, 1].min() - .5, X_reduced[:, 1].max() + .5\n",
    "\n",
    "print(x_min)\n",
    "print(x_max)\n",
    "print(y_min)\n",
    "print(y_max)\n",
    "\n",
    "print('\\n')\n",
    "print(np.arange(x_min, x_max, h))\n",
    "print(len(np.arange(y_min, y_max, h)))"
   ]
  },
  {
   "cell_type": "code",
   "execution_count": null,
   "metadata": {},
   "outputs": [],
   "source": [
    "xx, yy = np.meshgrid(np.arange(x_min, x_max, h), np.arange(y_min, y_max, h))\n",
    "\n",
    "Z = logreg.predict(np.c_[xx.ravel(), yy.ravel()])\n",
    "\n",
    "# Put the result into a color plot\n",
    "Z = Z.reshape(xx.shape)\n",
    "\n",
    "plt.figure(1, figsize=(4, 3))\n",
    "plt.pcolormesh(xx, yy, Z, cmap=plt.cm.Paired)\n",
    "\n",
    "# Plot also the training points\n",
    "plt.scatter(X_training[:, 0], X_training[:, 1], c=Y_training, edgecolors='k', cmap=plt.cm.Paired)\n",
    "plt.xlabel(feature_name0)\n",
    "plt.ylabel(feature_name1)\n",
    "\n",
    "plt.xlim(xx.min(), xx.max())\n",
    "plt.ylim(yy.min(), yy.max())\n",
    "plt.xticks(())\n",
    "plt.yticks(())\n",
    "plt.title('Training set')\n",
    "\n",
    "plt.show()\n",
    "\n",
    "# Put the result into a color plot\n",
    "Z = Z.reshape(xx.shape)\n",
    "plt.figure(1, figsize=(4, 3))\n",
    "plt.pcolormesh(xx, yy, Z, cmap=plt.cm.Paired)\n",
    "\n",
    "# Plot also the test points \n",
    "plt.scatter(X_test[:, 0], X_test[:, 1], c=Y_test, edgecolors='k', cmap=plt.cm.Paired, marker='s')\n",
    "plt.xlabel(feature_name0)\n",
    "plt.ylabel(feature_name1)\n",
    "\n",
    "plt.xlim(xx.min(), xx.max())\n",
    "plt.ylim(yy.min(), yy.max())\n",
    "plt.xticks(())\n",
    "plt.yticks(())\n",
    "plt.title('Test set')\n",
    "\n",
    "plt.show()"
   ]
  },
  {
   "cell_type": "markdown",
   "metadata": {},
   "source": [
    "# 2) Linear Regression on the Boston House Price dataset\n",
    "\n",
    "### Dataset description: \n",
    "\n",
    "The Boston House Price Dataset involves the prediction of a house price in thousands of dollars given details about the house and its neighborhood.\n",
    "\n",
    "The dataset contains a total of 500 observations, which relate 13 input features to an output variable (house price).\n",
    "\n",
    "The variable names are as follows:\n",
    "\n",
    "CRIM: per capita crime rate by town.\n",
    "\n",
    "ZN: proportion of residential land zoned for lots over 25,000 sq.ft.\n",
    "\n",
    "INDUS: proportion of nonretail business acres per town.\n",
    "\n",
    "CHAS: Charles River dummy variable (= 1 if tract bounds river; 0 otherwise).\n",
    "\n",
    "NOX: nitric oxides concentration (parts per 10 million).\n",
    "\n",
    "RM: average number of rooms per dwelling.\n",
    "\n",
    "AGE: proportion of owner-occupied units built prior to 1940.\n",
    "\n",
    "DIS: weighted distances to five Boston employment centers.\n",
    "\n",
    "RAD: index of accessibility to radial highways.\n",
    "\n",
    "TAX: full-value property-tax rate per $10,000.\n",
    "\n",
    "PTRATIO: pupil-teacher ratio by town.\n",
    "\n",
    "B: 1000*(Bk – 0.63)2 where Bk is the proportion of blacks by town.\n",
    "\n",
    "LSTAT: % lower status of the population.\n",
    "\n",
    "MEDV: Median value of owner-occupied homes in $1000s.\n",
    "    "
   ]
  },
  {
   "cell_type": "code",
   "execution_count": 2,
   "metadata": {},
   "outputs": [],
   "source": [
    "#needed if you get the IPython/javascript error on the in-line plots\n",
    "%matplotlib nbagg\n",
    "\n",
    "import matplotlib.pyplot as plt\n",
    "import numpy as np\n",
    "import scipy as sp\n",
    "from scipy import stats"
   ]
  },
  {
   "cell_type": "code",
   "execution_count": 3,
   "metadata": {},
   "outputs": [
    {
     "name": "stdout",
     "output_type": "stream",
     "text": [
      "DescribeResult(nobs=500, minmax=(array([6.3200e-03, 0.0000e+00, 4.6000e-01, 0.0000e+00, 3.8500e-01,\n",
      "       3.5610e+00, 2.9000e+00, 1.1296e+00, 1.0000e+00, 1.8700e+02,\n",
      "       1.2600e+01, 3.2000e-01, 1.7300e+00, 5.0000e+01]), array([ 88.9762, 100.    ,  27.74  ,   1.    ,   0.871 ,   8.78  ,\n",
      "       100.    ,  12.1265,  24.    , 711.    ,  22.    , 396.9   ,\n",
      "        37.97  , 500.    ])), mean=array([3.65578576e+00, 1.15000000e+01, 1.11317400e+01, 7.00000000e-02,\n",
      "       5.54451400e-01, 6.28297000e+00, 6.84246000e+01, 3.81193180e+00,\n",
      "       9.64200000e+00, 4.09624000e+02, 1.84286000e+01, 3.56208040e+02,\n",
      "       1.26987400e+01, 2.25680000e+02]), variance=array([7.47252195e+01, 5.48905812e+02, 4.76198228e+01, 6.52304609e-02,\n",
      "       1.35838329e-02, 4.97618330e-01, 7.99314163e+02, 4.46304043e+00,\n",
      "       7.59617595e+01, 2.85605197e+04, 4.67663531e+00, 8.41657137e+03,\n",
      "       5.13361942e+01, 8.52982926e+03]), skewness=array([ 5.17851447,  2.19924065,  0.29469001,  3.37060575,  0.72944382,\n",
      "        0.40691344, -0.58266003,  0.99061328,  0.9886802 ,  0.65098333,\n",
      "       -0.79127942, -2.85972639,  0.89051925,  1.09625625]), kurtosis=array([36.3384518 ,  3.88460431, -1.25254394,  9.3609831 , -0.10223624,\n",
      "        1.84311394, -0.99523636,  0.43299159, -0.90519243, -1.16696682,\n",
      "       -0.30903922,  7.00864873,  0.44527324,  1.4266838 ]))\n",
      "Shape of data array: (500, 14)\n"
     ]
    }
   ],
   "source": [
    "#Import Data: Load the data from a .csv file\n",
    "\n",
    "filename = \"data/house.csv\"\n",
    "Data = np.genfromtxt(filename, delimiter=';',skip_header=1)\n",
    "\n",
    "#A quick overview of data, to inspect the data you can use the method describe()\n",
    "\n",
    "dataDescription = stats.describe(Data)\n",
    "print(dataDescription)\n",
    "print (\"Shape of data array: \" + str(Data.shape))\n",
    "\n",
    "\n",
    "#for more interesting visualization: use Panda!"
   ]
  },
  {
   "cell_type": "markdown",
   "metadata": {},
   "source": [
    "# Split data in training and test sets\n",
    "\n",
    "\n",
    "\n",
    "Given $m$ total data, denote with $m_{t}$ the part used for training. Keep $m_t$ data as training data, and $m_{test}:= m-m_{t}$. For instance one can take $m_t=0.7m$ of the data as training and $m_{test}=0.3m$ as testing. Let us define as define\n",
    "\n",
    "$\\bullet$ $S_{t}$ the training data set\n",
    "\n",
    "$\\bullet$ $S_{test}$ the testing data set\n",
    "\n",
    "\n",
    "The reason for this splitting is as follows:\n",
    "\n",
    "TRAINING DATA: The training data are used to compute the empirical loss\n",
    "$$\n",
    "L_S(h) = \\frac{1}{m_t} \\sum_{z_i \\in S_{t}} \\ell(h,z_i)\n",
    "$$\n",
    "which is used to estimate $h$ in a given model class ${\\cal H}$.\n",
    "i.e. \n",
    "$$\n",
    "\\hat{h} = {\\rm arg\\; min}_{h \\in {\\cal H}} \\, L_S(h)\n",
    "$$\n",
    "\n",
    "TESTING DATA: The test data set can be used to estimate the performance of the final estimated model\n",
    "$\\hat h_{\\hat d_j}$ using:\n",
    "$$\n",
    "L_{{\\cal D}}(\\hat h_{\\hat d_j}) \\simeq \\frac{1}{m_{test}} \\sum_{ z_i \\in S_{test}} \\ell(\\hat h_{\\hat d_j},z_i)\n",
    "$$\n",
    "\n",
    "\n",
    "**TO DO**: split the data in training and test sets (70%-30%)"
   ]
  },
  {
   "cell_type": "code",
   "execution_count": 4,
   "metadata": {},
   "outputs": [
    {
     "name": "stdout",
     "output_type": "stream",
     "text": [
      "Total number of samples:  500\n",
      "Cardinality of Training Set:  350\n",
      "Training input data size:  (350, 13)\n",
      "Training output data size:  (350,)\n",
      "Test input data size:  (150, 13)\n",
      "Test output data size:  (150,)\n"
     ]
    }
   ],
   "source": [
    "#get number of total samples\n",
    "num_total_samples = Data.shape[0]\n",
    "\n",
    "print (\"Total number of samples: \", num_total_samples)\n",
    "\n",
    "m_t = int(num_total_samples*.7)\n",
    "\n",
    "print (\"Cardinality of Training Set: \", m_t)\n",
    "\n",
    "#shuffle the data\n",
    "np.random.shuffle(Data)\n",
    "\n",
    "#training data\n",
    "\n",
    "X_training = Data[:m_t, :-1] # PLACE YOUR CODE HERE\n",
    "Y_training = Data[:m_t,  -1] # PLACE YOUR CODE HERE\n",
    "print (\"Training input data size: \", X_training.shape)\n",
    "print (\"Training output data size: \", Y_training.shape)\n",
    "\n",
    "#test data, to be used to estimate the true loss of the final model(s)\n",
    "X_test = Data[m_t:, :-1]# PLACE YOUR CODE HERE\n",
    "Y_test = Data[m_t:,  -1]# PLACE YOUR CODE HERE\n",
    "print (\"Test input data size: \", X_test.shape)\n",
    "print (\"Test output data size: \", Y_test.shape)"
   ]
  },
  {
   "cell_type": "markdown",
   "metadata": {},
   "source": [
    "# Data Normalization\n",
    "It is common practice in Statistics and Machine Learning to scale the data (= each variable) so that it is centered (zero mean) and has standard deviation equal to 1. This helps in terms of numerical conditioning of the (inverse) problems of estimating the model (the coefficients of the linear regression in this case), as well as to give the same scale to all the coefficients."
   ]
  },
  {
   "cell_type": "code",
   "execution_count": 5,
   "metadata": {},
   "outputs": [
    {
     "name": "stdout",
     "output_type": "stream",
     "text": [
      "Mean of the training input data: [-0. -0.  0. -0. -0.  0. -0. -0.  0.  0.  0.  0. -0.]\n",
      "Std of the training input data: [1. 1. 1. 1. 1. 1. 1. 1. 1. 1. 1. 1. 1.]\n",
      "Mean of the test input data: [-0.10639032  0.0524601  -0.12233737 -0.01849001 -0.18294365 -0.16934385\n",
      " -0.17820627  0.16727019 -0.14519182 -0.1161653  -0.08375537  0.16977916\n",
      " -0.06886757]\n",
      "Std of the test input data: [0.67752966 0.9581395  0.97439832 0.96856577 0.89805395 0.92730522\n",
      " 1.04924313 1.05595204 0.9274617  0.9343027  0.99914938 0.71045236\n",
      " 0.93924239]\n"
     ]
    }
   ],
   "source": [
    "# scale the data\n",
    "\n",
    "# standardize the input matrix\n",
    "from sklearn import preprocessing\n",
    "# the transformation is computed on training data and then used on all the 3 sets\n",
    "scaler = preprocessing.StandardScaler().fit(X_training) \n",
    "\n",
    "np.set_printoptions(suppress=True) # sets to zero floating point numbers < min_float_eps\n",
    "X_training = scaler.transform(X_training)\n",
    "print (\"Mean of the training input data:\", X_training.mean(axis=0))\n",
    "print (\"Std of the training input data:\",X_training.std(axis=0))\n",
    "\n",
    "X_test = scaler.transform(X_test) # use the same transformation on test data\n",
    "print (\"Mean of the test input data:\", X_test.mean(axis=0))\n",
    "print (\"Std of the test input data:\", X_test.std(axis=0))"
   ]
  },
  {
   "cell_type": "markdown",
   "metadata": {},
   "source": [
    "# Model Training\n",
    "\n",
    "The model is trained (= estimated) minimizing the empirical error\n",
    "$$\n",
    "L_S(h) := \\frac{1}{m_t} \\sum_{z_i \\in S_{t}} \\ell(h,z_i)\n",
    "$$\n",
    "When the loss function is the quadratic loss\n",
    "$$\n",
    "\\ell(h,z) := (y - h(x))^2\n",
    "$$\n",
    "we define  the Residual Sum of Squares (RSS) as\n",
    "$$\n",
    "RSS(h):= \\sum_{z_i \\in S_{t}} \\ell(h,z_i) = \\sum_{z_i \\in S_{t}} (y_i - h(x_i))^2\n",
    "$$\n",
    "so that the training error becomes\n",
    "$$\n",
    "L_S(h) = \\frac{RSS(h)}{m_t}\n",
    "$$\n",
    "\n",
    "We recal that, for linear models we have $h(x) = <w,x>$ and the Empirical error $L_S(h)$ can be written\n",
    "in terms of the vector of parameters $w$ in the form\n",
    "$$\n",
    "L_S(w) = \\frac{1}{m_t} \\|Y - X w\\|^2\n",
    "$$\n",
    "where $Y$ and $X$ are the matrices whose $i-$th row are, respectively, the output data $y_i$ and the input vectors $x_i^\\top$.\n",
    "\n",
    "\n",
    " **TO DO:** compute the linear regression coefficients using np.linalg.lstsq from scikitlear\n"
   ]
  },
  {
   "cell_type": "code",
   "execution_count": 8,
   "metadata": {},
   "outputs": [
    {
     "name": "stdout",
     "output_type": "stream",
     "text": [
      "LS coefficients with numpy lstsq: [226.04       -11.30237819  11.13761118   4.6047203    4.35305708\n",
      " -26.01317204  28.25704865   2.70436112 -32.27786968  29.21308267\n",
      " -26.46529508 -22.36556999   7.50326155 -39.15056129]\n",
      "RSS with numpy lstsq:  [763941.36053381]\n",
      "Empirical risk with numpy lstsq: [2182.68960153]\n"
     ]
    }
   ],
   "source": [
    "#compute linear regression coefficients for training data\n",
    "\n",
    "#add a 1 at the beginning of each sample for training, and testing (use homogeneous coordinates)\n",
    "m_training = X_training.shape[0]\n",
    "X_trainingH = np.hstack((np.ones((m_training,1)),X_training)) # H: in homogeneous coordinates\n",
    "\n",
    "m_test = X_test.shape[0]\n",
    "X_testH = np.hstack((np.ones((m_test,1)),X_test))  # H: in homogeneous coordinates\n",
    "\n",
    "# Compute the least-squares coefficients using linalg.lstsq\n",
    "w_np, RSStr_np, rank_Xtr, sv_Xtr =  np.linalg.lstsq(X_trainingH, Y_training, rcond=None)# PLACE YOUR CODE\n",
    "print(\"LS coefficients with numpy lstsq:\", w_np)\n",
    "\n",
    "# compute Residual sums of squares\n",
    "\n",
    "RSStr_hand = np.sum((Y_training - np.dot(X_trainingH, w_np)) ** 2 )# PLACE YOUR CODE\n",
    "\n",
    "print(\"RSS with numpy lstsq: \", RSStr_np)\n",
    "print(\"Empirical risk with numpy lstsq:\", RSStr_np/m_training)"
   ]
  },
  {
   "cell_type": "markdown",
   "metadata": {},
   "source": [
    "## Data prediction \n",
    "\n",
    "Compute the output predictions on both training and test set and compute the Residual Sum of Squares (RSS). \n",
    "\n",
    "**TO DO**: Compute these quantities on  training and test sets."
   ]
  },
  {
   "cell_type": "code",
   "execution_count": 10,
   "metadata": {},
   "outputs": [
    {
     "name": "stdout",
     "output_type": "stream",
     "text": [
      "RSS on test data: 763941.3605338093\n",
      "Loss estimated from test data: 5092.942403558729\n"
     ]
    }
   ],
   "source": [
    "#compute predictions on training and test\n",
    "\n",
    "prediction_training = np.dot(X_trainingH, w_np) # PLACE YOUR CODE\n",
    "prediction_test = np.dot(X_testH, w_np) # PLACE YOUR CODE\n",
    "\n",
    "#what about the loss for points in the test data?\n",
    "RSS_test = np.sum((Y_training - np.dot(X_trainingH, w_np)) ** 2 ) # PLACE YOUR CODE\n",
    "\n",
    "print(\"RSS on test data:\",  RSS_test)\n",
    "print(\"Loss estimated from test data:\", RSS_test/m_test)"
   ]
  },
  {
   "cell_type": "markdown",
   "metadata": {},
   "source": [
    "### QUESTION 4: Comment on the results you get and on the difference between the train and test errors.\n",
    "\n",
    "Insert your answer here"
   ]
  },
  {
   "cell_type": "markdown",
   "metadata": {},
   "source": [
    "## Ordinary Least-Squares using scikit-learn\n",
    "Another fast way to compute the LS estimate is through sklearn.linear_model (for this function homogeneous coordinates are not needed)."
   ]
  },
  {
   "cell_type": "code",
   "execution_count": 12,
   "metadata": {},
   "outputs": [
    {
     "name": "stdout",
     "output_type": "stream",
     "text": [
      "Intercept: 226.0400000000001\n",
      "Least-Squares Coefficients: [-11.30237819  11.13761118   4.6047203    4.35305708 -26.01317204\n",
      "  28.25704865   2.70436112 -32.27786968  29.21308267 -26.46529508\n",
      " -22.36556999   7.50326155 -39.15056129]\n",
      "Measure on training data: 0.2320525191118451\n"
     ]
    }
   ],
   "source": [
    "from sklearn import linear_model\n",
    "\n",
    "# build the LinearRegression() model and train it\n",
    "LinReg = linear_model.LinearRegression() # PLACE YOUR CODE\n",
    "\n",
    "# PLACE YOUR CODE\n",
    "LinReg.fit(X_training, Y_training)\n",
    "\n",
    "print(\"Intercept:\", LinReg.intercept_)\n",
    "print(\"Least-Squares Coefficients:\", LinReg.coef_)\n",
    "\n",
    "# predict output values on training and test sets\n",
    "\n",
    "# PLACE YOUR CODE\n",
    "Y_pred_test = LinReg.predict(X_test)\n",
    "\n",
    "# return a prediction score based on the coefficient of determination\n",
    "print(\"Measure on training data:\", 1-LinReg.score(X_training, Y_training))"
   ]
  }
 ],
 "metadata": {
  "anaconda-cloud": {},
  "interpreter": {
   "hash": "77593180668de44719eea98b1016f56594f6a7979e760ba16644cd28c82a4004"
  },
  "kernelspec": {
   "display_name": "Python 3.8.5 64-bit ('base': conda)",
   "name": "python3"
  },
  "language_info": {
   "codemirror_mode": {
    "name": "ipython",
    "version": 3
   },
   "file_extension": ".py",
   "mimetype": "text/x-python",
   "name": "python",
   "nbconvert_exporter": "python",
   "pygments_lexer": "ipython3",
   "version": "3.8.5"
  }
 },
 "nbformat": 4,
 "nbformat_minor": 4
}
